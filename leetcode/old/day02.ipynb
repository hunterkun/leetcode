{
 "cells": [
  {
   "cell_type": "markdown",
   "metadata": {},
   "source": [
    "### 15 3Sum(Med)"
   ]
  },
  {
   "cell_type": "markdown",
   "metadata": {},
   "source": [
    "Given an array nums of n integers, are there elements a, b, c in nums such that a + b + c = 0? Find all unique triplets in the array which gives the sum of zero.\n",
    "\n",
    "Note: The solution set must not contain duplicate triplets."
   ]
  },
  {
   "cell_type": "markdown",
   "metadata": {},
   "source": [
    "从最简单的3个for循环入手"
   ]
  },
  {
   "cell_type": "markdown",
   "metadata": {},
   "source": [
    "def threeSum(nums):\n",
    "    n=len(nums)\n",
    "    result=set()\n",
    "    for i in range(n-2):\n",
    "        for j in range(i+1, n-1):\n",
    "            for k in range(j+1, n):\n",
    "                if nums[i]+nums[j]+nums[k]==0:\n",
    "                    result.add((nums[i], nums[j], nums[k]))\n",
    "    return map(list,result)"
   ]
  },
  {
   "cell_type": "code",
   "execution_count": 5,
   "metadata": {},
   "outputs": [
    {
     "data": {
      "text/plain": [
       "{(2, 3, 4)}"
      ]
     },
     "execution_count": 5,
     "metadata": {},
     "output_type": "execute_result"
    }
   ],
   "source": [
    "a=set()\n",
    "a.add((2,3,4))\n",
    "a.add((2,3,4))\n",
    "a"
   ]
  },
  {
   "cell_type": "code",
   "execution_count": null,
   "metadata": {},
   "outputs": [],
   "source": [
    "def threeSum(nums):\n",
    "    result=set()\n",
    "    for i in range(len(nums)-2):\n",
    "        for j in range(i+1, len(nums)-1):\n",
    "            for k in range(i+2, len(nums)):\n",
    "                 if nums[i]+nums[j]+nums[k]==0\n",
    "                    return result.add(nums[i],nums[j],nums[k])\n",
    "    return map(list,result)  "
   ]
  },
  {
   "cell_type": "markdown",
   "metadata": {},
   "source": [
    "有个缺陷不能处理重复的值,相同的值但不同序的情况不能排除"
   ]
  },
  {
   "cell_type": "markdown",
   "metadata": {},
   "source": [
    "应该把这题看成是`2Sum`的升级，a+b+c=0等价于a+b=-c，而这个-c就是`2Sum`的target,target可以看做当前正在处理的值，剩下的为另一个数组，至于重复的处理，可利用排序，遇到前后相同的值就应该跳过，如[-1,-1,0,1,2,4],搜索范围应该从索引0开始但是要跳过后面重复的值"
   ]
  },
  {
   "cell_type": "markdown",
   "metadata": {},
   "source": [
    "def threeSum(nums):\n",
    "    if len(nums)<3:\n",
    "        return []\n",
    "    nums.sort()\n",
    "    print(nums)\n",
    "    n=len(nums)\n",
    "    result=[]\n",
    "    for i in range(n):\n",
    "        if nums[i-1]==nums[i] and i>0:\n",
    "            continue\n",
    "        target=nums[i]*-1\n",
    "        l=i+1\n",
    "        r=n-1\n",
    "        while l<r:\n",
    "            if target==nums[l]+nums[r]:\n",
    "                result.append([nums[i],nums[l],nums[r]])\n",
    "                l+=1\n",
    "                r-=1\n",
    "                while nums[l]==nums[l-1] and l<r:\n",
    "                    l=l+1\n",
    "            elif target<nums[l]+nums[r]:\n",
    "                r-=1\n",
    "            else:\n",
    "                l+=1\n",
    "    return result"
   ]
  },
  {
   "cell_type": "code",
   "execution_count": 1,
   "metadata": {},
   "outputs": [],
   "source": [
    "def threeSum(nums):\n",
    "    if len(nums)<3:\n",
    "        return []\n",
    "    result=[]\n",
    "    nums.sort()\n",
    "    for i in range(len(nums)):\n",
    "        if nums[i-1]==nums[i] and i>0:\n",
    "            continue\n",
    "        target=-nums[i]\n",
    "        l=i+1\n",
    "        r=len(nums)-1\n",
    "        while l<r:\n",
    "            if nums[l]+nums[r]==target:\n",
    "                reasult.append(nums[i],nums[l],nums[r])\n",
    "                l+=1\n",
    "                r-=1\n",
    "                while nums[l]==nums[l-1] and l<r: #防止【0,0,0】情况出现\n",
    "                    l+=1\n",
    "            elif nums[l]+nums[r]>target:\n",
    "                r-=1  \n",
    "            else:\n",
    "                l+=1\n",
    "    return result"
   ]
  },
  {
   "cell_type": "code",
   "execution_count": 102,
   "metadata": {},
   "outputs": [
    {
     "name": "stdout",
     "output_type": "stream",
     "text": [
      "[-5, -5, -4, -4, -4, -2, -2, -2, 0, 0, 0, 1, 1, 3, 4, 4]\n"
     ]
    },
    {
     "data": {
      "text/plain": [
       "[[-5, 1, 4], [-4, 0, 4], [-4, 1, 3], [-2, -2, 4], [-2, 1, 1], [0, 0, 0]]"
      ]
     },
     "execution_count": 102,
     "metadata": {},
     "output_type": "execute_result"
    }
   ],
   "source": [
    "nums = [-4,-2,1,-5,-4,-4,4,-2,0,4,0,-2,3,1,-5,0]\n",
    "result = threeSum(nums)\n",
    "result"
   ]
  },
  {
   "cell_type": "markdown",
   "metadata": {},
   "source": [
    "### 48 Roatate Image\n",
    "You are given an n x n 2D matrix representing an image.\n",
    "\n",
    "Rotate the image by 90 degrees (clockwise).\n",
    "\n",
    "Note:\n",
    "\n",
    "You have to rotate the image in-place, which means you have to modify the input 2D matrix directly. DO NOT allocate another 2D matrix and do the rotation."
   ]
  },
  {
   "cell_type": "markdown",
   "metadata": {},
   "source": [
    "通过两两交换来得到，两两交换的位置则是有固定的模式，算法就是要找到这个模式"
   ]
  },
  {
   "cell_type": "markdown",
   "metadata": {},
   "source": [
    "/*\n",
    " * clockwise rotate\n",
    " * first reverse up to down, then swap the symmetry \n",
    " * 1 2 3     7 8 9     7 4 1\n",
    " * 4 5 6  => 4 5 6  => 8 5 2\n",
    " * 7 8 9     1 2 3     9 6 3\n",
    "*/\n",
    "/*\n",
    " * anticlockwise rotate\n",
    " * first swap the symmetry then reverse up to down\n",
    " * 1 2 3     1 4 7     3 6 9\n",
    " * 4 5 6  => 2 5 8  => 2 5 8\n",
    " * 7 8 9     3 6 9     1 4 7\n",
    "*/"
   ]
  },
  {
   "cell_type": "code",
   "execution_count": 1,
   "metadata": {},
   "outputs": [],
   "source": [
    "def rotate2(matrix):\n",
    "    matrix[::]=matrix[::-1]\n",
    "    for i in range(len(matrix[0])):\n",
    "        for j in range(i+1, len(matrix[0])):\n",
    "            matrix[i][j],matrix[j][i]=matrix[j][i], matrix[i][j]            "
   ]
  },
  {
   "cell_type": "code",
   "execution_count": 17,
   "metadata": {},
   "outputs": [],
   "source": [
    "def rotate(matrix):\n",
    "    matrix[::] = map(list, zip(*matrix[::-1]))"
   ]
  },
  {
   "cell_type": "code",
   "execution_count": 30,
   "metadata": {},
   "outputs": [],
   "source": [
    "def reverse_rotate(matrix):\n",
    "    matrix[::] = map(list, zip(*matrix))\n",
    "    matrix[::] = matrix[::-1]"
   ]
  },
  {
   "cell_type": "code",
   "execution_count": 41,
   "metadata": {},
   "outputs": [],
   "source": [
    "def reverse_rotate2(matrix):\n",
    "    for i in range(len(matrix[0])):\n",
    "        for j in range(i+1, len(matrix[0])):\n",
    "            matrix[i][j],matrix[j][i]=matrix[j][i], matrix[i][j]\n",
    "    matrix[::]=matrix[::-1]"
   ]
  },
  {
   "cell_type": "code",
   "execution_count": 2,
   "metadata": {},
   "outputs": [],
   "source": [
    "m=[\n",
    "  [1,2,3],\n",
    "  [4,5,6],\n",
    "  [7,8,9]\n",
    "]"
   ]
  },
  {
   "cell_type": "code",
   "execution_count": 43,
   "metadata": {},
   "outputs": [
    {
     "data": {
      "text/plain": [
       "[[3, 6, 9], [2, 5, 8], [1, 4, 7]]"
      ]
     },
     "execution_count": 43,
     "metadata": {},
     "output_type": "execute_result"
    }
   ],
   "source": [
    "reverse_rotate2(m)\n",
    "m"
   ]
  },
  {
   "cell_type": "code",
   "execution_count": 3,
   "metadata": {},
   "outputs": [
    {
     "data": {
      "text/plain": [
       "[[7, 4, 1], [8, 5, 2], [9, 6, 3]]"
      ]
     },
     "execution_count": 3,
     "metadata": {},
     "output_type": "execute_result"
    }
   ],
   "source": [
    "rotate2(m)\n",
    "m"
   ]
  },
  {
   "cell_type": "markdown",
   "metadata": {},
   "source": [
    "### 2 Add Two Numbers\n",
    "You are given two non-empty linked lists representing two non-negative integers. The digits are stored in reverse order and each of their nodes contain a single digit. Add the two numbers and return it as a linked list.\n",
    "\n",
    "You may assume the two numbers do not contain any leading zero, except the number 0 itself.\n",
    "\n",
    "Input: (2 -> 4 -> 3) + (5 -> 6 -> 4)\n",
    "\n",
    "Output: 7 -> 0 -> 8\n",
    "\n",
    "Explanation: 342 + 465 = 807."
   ]
  },
  {
   "cell_type": "code",
   "execution_count": null,
   "metadata": {},
   "outputs": [],
   "source": [
    "class ListNode:\n",
    "    def __init__(self,x):\n",
    "        self.val=x\n",
    "        self.next=None\n",
    "\n",
    "def addTwoNumbers(l1,l2):\n",
    "    carry=0\n",
    "    dummy = s = ListNode(0)\n",
    "    while l1 or l2 or carry:\n",
    "        a,b=0,0\n",
    "        if l1:\n",
    "            a=l1.val\n",
    "            l1=l1.next\n",
    "        if l2:\n",
    "            b=l2.val\n",
    "            l2=l2.next\n",
    "        if a+b+carry>9:\n",
    "            s.next=ListNode(a+b+carry-10)\n",
    "            carry=1\n",
    "        else:\n",
    "            s.next=ListNode(a+b+carry)\n",
    "            carry=0\n",
    "        s=s.next\n",
    "    return dummy.next"
   ]
  },
  {
   "cell_type": "markdown",
   "metadata": {},
   "source": [
    "Merge two sorted linked lists and return it as a new list. The new list should be made by splicing together the nodes of the first two lists.\n",
    "\n",
    "Example:\n",
    "\n",
    "Input: 1->2->4, 1->3->4\n",
    "\n",
    "Output: 1->1->2->3->4->4"
   ]
  },
  {
   "cell_type": "code",
   "execution_count": null,
   "metadata": {},
   "outputs": [],
   "source": [
    "class ListNode:\n",
    "    def __init__(self,x):\n",
    "        self.val=x\n",
    "        self.next=None\n",
    "        \n",
    "def mergeTwoLists(self, l1, l2):\n",
    "    \"\"\"\n",
    "    :type l1: ListNode\n",
    "    :type l2: ListNode\n",
    "    :rtype: ListNode\n",
    "    \"\"\"\n",
    "    dummy=s=ListNode(0)\n",
    "    while lr or l2:\n",
    "        a,b=inf,inf\n",
    "        if l1:\n",
    "            a=l1.val\n",
    "        if l2:\n",
    "            b=l2.val\n",
    "        if a>=b:\n",
    "            s.next=ListNode(b)\n",
    "            l2=l2.next\n",
    "        else:\n",
    "            s.next=ListNode(a)\n",
    "            l1=l1.next\n",
    "        s=s.next\n",
    "    return dummy.next"
   ]
  },
  {
   "cell_type": "code",
   "execution_count": 1,
   "metadata": {},
   "outputs": [],
   "source": [
    "def mergeTwoLists(self,l1,l2):\n",
    "    dummy_head=tail=ListNode(0)\n",
    "    while l1 and l2:\n",
    "        if l1.val<=l2.val:\n",
    "            tail.next=l1\n",
    "            l1=l1.next\n",
    "        else:\n",
    "            tail.next=l2\n",
    "            l2=l2.next\n",
    "        tail=tail.next\n",
    "    tail.next=l1 or l2\n",
    "    return dummy.next"
   ]
  },
  {
   "cell_type": "code",
   "execution_count": null,
   "metadata": {},
   "outputs": [],
   "source": []
  }
 ],
 "metadata": {
  "kernelspec": {
   "display_name": "Python [conda root]",
   "language": "python",
   "name": "conda-root-py"
  },
  "language_info": {
   "codemirror_mode": {
    "name": "ipython",
    "version": 3
   },
   "file_extension": ".py",
   "mimetype": "text/x-python",
   "name": "python",
   "nbconvert_exporter": "python",
   "pygments_lexer": "ipython3",
   "version": "3.6.5"
  }
 },
 "nbformat": 4,
 "nbformat_minor": 2
}
