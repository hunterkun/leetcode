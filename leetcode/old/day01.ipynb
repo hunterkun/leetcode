{
 "cells": [
  {
   "cell_type": "markdown",
   "metadata": {},
   "source": [
    "### 1 Two Sum\n",
    "Given an array of integers, return indices of the two numbers such that they add up \n",
    "to a specific target. You may assume that each input would have exactly one solution, and \n",
    "you may not use the same element twice."
   ]
  },
  {
   "cell_type": "markdown",
   "metadata": {},
   "source": [
    "def twosum(nums,target):\n",
    "    for i in range(len(nums)):\n",
    "        if target-nums[i] in nums[i+1:]:\n",
    "            return [i, nums[i+1:].index(target-nums[i])+i+1]\n",
    "    return None"
   ]
  },
  {
   "cell_type": "code",
   "execution_count": 25,
   "metadata": {},
   "outputs": [
    {
     "name": "stdout",
     "output_type": "stream",
     "text": [
      "None\n",
      "[0, 2]\n"
     ]
    }
   ],
   "source": [
    "nums=[3,2,4,5]; target=10 \n",
    "nums2=[4,4,5]; target2=9\n",
    "a = twosum(nums,target)\n",
    "print(a)\n",
    "b = twosum(nums2,target2)\n",
    "print(b)"
   ]
  },
  {
   "cell_type": "markdown",
   "metadata": {},
   "source": [
    "用字典来求会更快,想法是把当前的index保留下来，如果后面找到了目标数就能知道之前的那个index了，以及现在的index\n",
    "建立想找的那个被减数和当前这个数的索引的map关系，如果在后面找到了这个数的被减数的话就可以知道两个的索引了"
   ]
  },
  {
   "cell_type": "code",
   "execution_count": 16,
   "metadata": {},
   "outputs": [],
   "source": [
    "def twosum2(nums,target):\n",
    "    dict_buffer={}\n",
    "    for i in range(len(nums)):\n",
    "        if nums[i] in dict_buffer:\n",
    "            return [dict_buffer[nums[i]],i]\n",
    "        if target-nums[i] not in dict_buffer:\n",
    "            dict_buffer[target-nums[i]]=i\n",
    "    return None"
   ]
  },
  {
   "cell_type": "code",
   "execution_count": 13,
   "metadata": {},
   "outputs": [
    {
     "data": {
      "text/plain": [
       "False"
      ]
     },
     "execution_count": 13,
     "metadata": {},
     "output_type": "execute_result"
    }
   ],
   "source": [
    "d={1:2,3:4}\n",
    "1 in d.values()"
   ]
  },
  {
   "cell_type": "code",
   "execution_count": 17,
   "metadata": {},
   "outputs": [],
   "source": [
    "def twosum(nums,target):\n",
    "    d={}\n",
    "    for i,j in enumerate(nums):\n",
    "        if j in d:\n",
    "            return d[j]\n",
    "        d[target-j]=i\n",
    "    return None"
   ]
  },
  {
   "cell_type": "code",
   "execution_count": 15,
   "metadata": {},
   "outputs": [
    {
     "name": "stdout",
     "output_type": "stream",
     "text": [
      "None (1, 0)\n"
     ]
    }
   ],
   "source": [
    "nums=[3,2,4,5]; target=10 \n",
    "nums2=[4,4,5]; target2=8\n",
    "a = twosum(nums,target)\n",
    "b = twosum(nums2,target2)\n",
    "print(a,b)"
   ]
  },
  {
   "cell_type": "markdown",
   "metadata": {},
   "source": [
    "#### 总结：关键还是要利用减的思想而不是加"
   ]
  },
  {
   "cell_type": "markdown",
   "metadata": {},
   "source": [
    "### 26 Remove Duplicated from Sorted Array\n",
    "Given a sorted array nums, remove the duplicates in-place such that each element appear only once and return the new length.\n",
    "Do not allocate extra space for another array, you must do this by modifying the input array in-place with O(1) extra memory."
   ]
  },
  {
   "cell_type": "markdown",
   "metadata": {},
   "source": [
    "def removeDuplicates(nums):\n",
    "    \"\"\"\n",
    "    :type nums: List[int]\n",
    "    :rtype: int\n",
    "    \"\"\"\n",
    "    if not nums:\n",
    "        return 0\n",
    "    i=0\n",
    "    for j in range(1, len(nums)):\n",
    "        if nums[i]==nums[j]:\n",
    "            continue\n",
    "        else:\n",
    "            i+=1\n",
    "            nums[i]=nums[j]\n",
    "    return i+1"
   ]
  },
  {
   "cell_type": "code",
   "execution_count": 30,
   "metadata": {},
   "outputs": [],
   "source": [
    "def removeDuplicates(nums):\n",
    "    i=0\n",
    "    if nums is None:\n",
    "        return 0\n",
    "    for j in range(1,len(nums)):\n",
    "        if nums[i]==nums[j]:\n",
    "            continue\n",
    "        else:\n",
    "            i+=1\n",
    "            nums[i]=nums[j]\n",
    "    return i+1"
   ]
  },
  {
   "cell_type": "code",
   "execution_count": 31,
   "metadata": {},
   "outputs": [
    {
     "name": "stdout",
     "output_type": "stream",
     "text": [
      "1\n",
      "3\n",
      "4\n",
      "6\n",
      "8\n",
      "11\n",
      "12\n"
     ]
    },
    {
     "data": {
      "text/plain": [
       "[0, 1, 2, 3, 4, 5, 2, 3, 3, 4, 5, 5, 5]"
      ]
     },
     "execution_count": 31,
     "metadata": {},
     "output_type": "execute_result"
    }
   ],
   "source": [
    "nums = [0,0,1,1,1,2,2,3,3,4,5,5,5]\n",
    "a=removeDuplicates(nums)\n",
    "nums"
   ]
  },
  {
   "cell_type": "markdown",
   "metadata": {},
   "source": [
    "### 35 Search Insert Position\n",
    "Given a sorted array and a target value, return the index if the target is found. If not, return the index where it would be if it were inserted in order.\n",
    "\n",
    "You may assume no duplicates in the array."
   ]
  },
  {
   "cell_type": "markdown",
   "metadata": {},
   "source": [
    "最直接的想法是利用二分查找，但实际上也可以简单判断小于它的个数就是插入的索引啊"
   ]
  },
  {
   "cell_type": "code",
   "execution_count": 42,
   "metadata": {},
   "outputs": [],
   "source": [
    "def searchInsert(nums, target):\n",
    "    a=0\n",
    "    for i in nums:\n",
    "        if target>i:\n",
    "            a+=1\n",
    "        if target<i:\n",
    "            break\n",
    "    return a"
   ]
  },
  {
   "cell_type": "code",
   "execution_count": 45,
   "metadata": {},
   "outputs": [
    {
     "data": {
      "text/plain": [
       "1"
      ]
     },
     "execution_count": 45,
     "metadata": {},
     "output_type": "execute_result"
    }
   ],
   "source": [
    "nums=[1,3,5,6]\n",
    "searchInsert(nums,2)"
   ]
  },
  {
   "cell_type": "markdown",
   "metadata": {},
   "source": [
    "二分查找"
   ]
  },
  {
   "cell_type": "code",
   "execution_count": 44,
   "metadata": {},
   "outputs": [],
   "source": [
    "def searchInsert2(nums, target):\n",
    "    l,r=0, len(nums)\n",
    "    while l<r:\n",
    "        m=(l+r)//2\n",
    "        if nums[m]>target:\n",
    "            r=m\n",
    "            if r==0:\n",
    "                return 0\n",
    "            if nums[r-1]<target:\n",
    "                return r\n",
    "        elif nums[m]<target:\n",
    "            l=m\n",
    "            if l==len(nums)-1:\n",
    "                return len(nums)\n",
    "            if nums[l+1]>target:\n",
    "                return l+1\n",
    "        else:\n",
    "            return m\n",
    "            "
   ]
  },
  {
   "cell_type": "code",
   "execution_count": 3,
   "metadata": {},
   "outputs": [],
   "source": [
    "def searchInsert(nums,target):\n",
    "    l=0\n",
    "    r=len(nums)\n",
    "    while l<r:\n",
    "        mid=l+(r-l)//2\n",
    "        if nums[mid]==target:\n",
    "            return mid\n",
    "        elif nums[mid]<target:\n",
    "            l=mid+1\n",
    "        else:\n",
    "            r=mid\n",
    "    return l"
   ]
  },
  {
   "cell_type": "code",
   "execution_count": 69,
   "metadata": {},
   "outputs": [],
   "source": [
    "def searchInsert(nums,target):\n",
    "    l=0\n",
    "    r=len(nums)\n",
    "    while l<r:\n",
    "        m=(l+r)//2\n",
    "        if target<nums[m]:\n",
    "            r=m\n",
    "            if r==0:\n",
    "                return 0\n",
    "            if nums[r-1]<target:\n",
    "                return r\n",
    "        elif target>nums[m]:\n",
    "            l=m\n",
    "            if m==len(nums)-1:\n",
    "                return len(nums)\n",
    "            if nums[l+1]>target:\n",
    "                return l+1\n",
    "        else:\n",
    "            return m"
   ]
  },
  {
   "cell_type": "code",
   "execution_count": 4,
   "metadata": {},
   "outputs": [
    {
     "data": {
      "text/plain": [
       "5"
      ]
     },
     "execution_count": 4,
     "metadata": {},
     "output_type": "execute_result"
    }
   ],
   "source": [
    "nums=[1,3,5,6,9]\n",
    "searchInsert(nums,10)"
   ]
  },
  {
   "cell_type": "code",
   "execution_count": null,
   "metadata": {},
   "outputs": [],
   "source": []
  }
 ],
 "metadata": {
  "kernelspec": {
   "display_name": "Python [default]",
   "language": "python",
   "name": "python3"
  },
  "language_info": {
   "codemirror_mode": {
    "name": "ipython",
    "version": 3
   },
   "file_extension": ".py",
   "mimetype": "text/x-python",
   "name": "python",
   "nbconvert_exporter": "python",
   "pygments_lexer": "ipython3",
   "version": "3.6.5"
  }
 },
 "nbformat": 4,
 "nbformat_minor": 2
}
