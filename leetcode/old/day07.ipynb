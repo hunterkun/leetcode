{
 "cells": [
  {
   "cell_type": "markdown",
   "metadata": {},
   "source": [
    "### 53. Maximum Subarray\n",
    "Given an integer array nums, find the contiguous subarray (containing at least one number) which has the largest sum and return its sum."
   ]
  },
  {
   "cell_type": "markdown",
   "metadata": {},
   "source": [
    "Input: [-2,1,-3,4,-1,2,1,-5,4],\n",
    "\n",
    "Output: 6\n",
    "\n",
    "Explanation: [4,-1,2,1] has the largest sum = 6."
   ]
  },
  {
   "cell_type": "code",
   "execution_count": 5,
   "metadata": {},
   "outputs": [],
   "source": [
    "def maxSubArray(nums):\n",
    "    maxsum=nums[0]\n",
    "    subsum=0\n",
    "    for i in range(0, len(nums)):\n",
    "        subsum+=nums[i]\n",
    "        if maxsum<subsum:\n",
    "            maxsum=subsum\n",
    "        if subsum<0:\n",
    "            subsum=0\n",
    "            \n",
    "    return maxsum\n",
    "            "
   ]
  },
  {
   "cell_type": "code",
   "execution_count": 6,
   "metadata": {},
   "outputs": [
    {
     "data": {
      "text/plain": [
       "6"
      ]
     },
     "execution_count": 6,
     "metadata": {},
     "output_type": "execute_result"
    }
   ],
   "source": [
    "maxSubArray([-2,1,-3,4,-1,2,1,-5,4])"
   ]
  },
  {
   "cell_type": "code",
   "execution_count": 9,
   "metadata": {},
   "outputs": [
    {
     "data": {
      "text/plain": [
       "5"
      ]
     },
     "execution_count": 9,
     "metadata": {},
     "output_type": "execute_result"
    }
   ],
   "source": [
    "maxSubArray([-2,-3,5,-8])"
   ]
  },
  {
   "cell_type": "markdown",
   "metadata": {},
   "source": [
    "### Offer3 二维数组中的查找P38"
   ]
  },
  {
   "cell_type": "code",
   "execution_count": 1,
   "metadata": {},
   "outputs": [],
   "source": [
    "def Find(matrix, number):\n",
    "    rows=len(matrix)\n",
    "    cols=len(matrix[0])\n",
    "    row=0\n",
    "    col=cols-1\n",
    "    find=False\n",
    "    while row<rows or col>=0:\n",
    "        if matrix[row][col]==number:\n",
    "            find=True\n",
    "            break\n",
    "        elif matrix[row][col]<number:\n",
    "            row+=1\n",
    "        else:\n",
    "            col-=1\n",
    "    return find"
   ]
  },
  {
   "cell_type": "markdown",
   "metadata": {},
   "source": [
    "### Offer4 替换空格"
   ]
  },
  {
   "cell_type": "code",
   "execution_count": 31,
   "metadata": {},
   "outputs": [],
   "source": [
    "def ReplaceBlank(strr):\n",
    "    if strr is None:\n",
    "        return\n",
    "    old=len(strr)\n",
    "    count=0\n",
    "    for i in range(old):\n",
    "        if strr[i]==' ':\n",
    "            count+=1\n",
    "    new=len(strr)+count*2\n",
    "    s=new*[None]\n",
    "    while old>=1:\n",
    "        if strr[old-1]==' ':\n",
    "            s[new-3:new]=['%','2','0']\n",
    "            new-=3\n",
    "            old-=1\n",
    "        else:\n",
    "            s[new-1]=strr[old-1]\n",
    "            new-=1\n",
    "            old-=1\n",
    "    return ''.join(s)\n",
    "        "
   ]
  },
  {
   "cell_type": "code",
   "execution_count": 32,
   "metadata": {},
   "outputs": [
    {
     "data": {
      "text/plain": [
       "''"
      ]
     },
     "execution_count": 32,
     "metadata": {},
     "output_type": "execute_result"
    }
   ],
   "source": [
    "ReplaceBlank('')"
   ]
  },
  {
   "cell_type": "code",
   "execution_count": null,
   "metadata": {},
   "outputs": [],
   "source": []
  }
 ],
 "metadata": {
  "kernelspec": {
   "display_name": "Python [default]",
   "language": "python",
   "name": "python3"
  },
  "language_info": {
   "codemirror_mode": {
    "name": "ipython",
    "version": 3
   },
   "file_extension": ".py",
   "mimetype": "text/x-python",
   "name": "python",
   "nbconvert_exporter": "python",
   "pygments_lexer": "ipython3",
   "version": "3.6.5"
  }
 },
 "nbformat": 4,
 "nbformat_minor": 2
}
