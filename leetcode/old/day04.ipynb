{
 "cells": [
  {
   "cell_type": "markdown",
   "metadata": {},
   "source": [
    "### 13 Roman to Integer"
   ]
  },
  {
   "cell_type": "markdown",
   "metadata": {},
   "source": [
    "Roman numerals are represented by seven different symbols: I, V, X, L, C, D and M.\n",
    "\n",
    "    I can be placed before V (5) and X (10) to make 4 and 9. \n",
    "    X can be placed before L (50) and C (100) to make 40 and 90. \n",
    "    C can be placed before D (500) and M (1000) to make 400 and 900.\n"
   ]
  },
  {
   "cell_type": "markdown",
   "metadata": {},
   "source": [
    "Symbol       Value\n",
    "I             1\n",
    "V             5\n",
    "X             10\n",
    "L             50\n",
    "C             100\n",
    "D             500\n",
    "M             1000"
   ]
  },
  {
   "cell_type": "code",
   "execution_count": 48,
   "metadata": {},
   "outputs": [],
   "source": [
    "d={'I':1, 'V':5,'X':10,'L':50,'C':100,'D':500,'M':1000}\n",
    "def romanToInt(s):\n",
    "    r,i=0,0\n",
    "    while i<len(s):\n",
    "        if i==len(s)-1:\n",
    "            r+=d[s[i]]\n",
    "            i+=1\n",
    "            continue\n",
    "        if s[i]=='I':\n",
    "            if s[i+1]=='V' or s[i+1]=='X':\n",
    "                r+=d[s[i+1]]-d[s[i]]\n",
    "                i+=2\n",
    "                continue\n",
    "        if s[i]=='X':\n",
    "            if s[i+1]=='L' or s[i+1]=='C':\n",
    "                r+=d[s[i+1]]-d[s[i]]\n",
    "                i+=2\n",
    "                continue\n",
    "        if s[i]=='C':\n",
    "            if s[i+1]=='D' or s[i+1]=='M':\n",
    "                r+=d[s[i+1]]-d[s[i]]\n",
    "                i+=2\n",
    "                continue      \n",
    "        r+=d[s[i]]\n",
    "        i+=1\n",
    "    return r"
   ]
  },
  {
   "cell_type": "code",
   "execution_count": 58,
   "metadata": {},
   "outputs": [
    {
     "data": {
      "text/plain": [
       "51"
      ]
     },
     "execution_count": 58,
     "metadata": {},
     "output_type": "execute_result"
    }
   ],
   "source": [
    "def romanToInt(s):  \n",
    "    result, i = 0, 0\n",
    "    while i < len(s):\n",
    "        try:\n",
    "            result += d[s[i] + s[i + 1]]\n",
    "            i += 2\n",
    "        except (KeyError, IndexError):\n",
    "            result += d[s[i]]\n",
    "            i += 1\n",
    "    return result\n",
    "romanToInt('IL')"
   ]
  },
  {
   "cell_type": "code",
   "execution_count": 54,
   "metadata": {},
   "outputs": [],
   "source": [
    "def romanToInt(s):\n",
    "    res, p = 0, 'I'\n",
    "    for c in s[::-1]:\n",
    "        res, p = res - d[c] if d[c] < d[p] else res + d[c], c\n",
    "    return res"
   ]
  },
  {
   "cell_type": "code",
   "execution_count": 55,
   "metadata": {},
   "outputs": [
    {
     "data": {
      "text/plain": [
       "49"
      ]
     },
     "execution_count": 55,
     "metadata": {},
     "output_type": "execute_result"
    }
   ],
   "source": [
    "romanToInt('IL')"
   ]
  },
  {
   "cell_type": "markdown",
   "metadata": {},
   "source": [
    "### 3 Longest Substring Without Repeating Characters(Med)"
   ]
  },
  {
   "cell_type": "markdown",
   "metadata": {},
   "source": [
    "Input: \"pwwkew\"\n",
    "\n",
    "Output: 3\n",
    "\n",
    "Explanation: The answer is \"wke\", with the length of 3. \n",
    "             Note that the answer must be a substring, \"pwke\" is a subsequence and not a substring."
   ]
  },
  {
   "cell_type": "markdown",
   "metadata": {},
   "source": [
    "暴力搜索，找到所有可能的substring,然后再判断这些substring中最长的不含重复字符的"
   ]
  },
  {
   "cell_type": "code",
   "execution_count": 3,
   "metadata": {},
   "outputs": [],
   "source": [
    "def uniquechar(ss):\n",
    "    k=set()\n",
    "    for i in ss:\n",
    "        k.add(i)\n",
    "    if len(k)<len(ss):\n",
    "        return False\n",
    "    return True"
   ]
  },
  {
   "cell_type": "code",
   "execution_count": 4,
   "metadata": {},
   "outputs": [],
   "source": [
    "def lengthOfLongestSubstring(s):\n",
    "    r=[]\n",
    "    for i in range(len(s)):\n",
    "        for j in range(i,len(s)):\n",
    "            r.append(s[i:j+1])\n",
    "    best=0\n",
    "    for ss in r:\n",
    "        if uniquechar(ss):\n",
    "            if best<len(ss):\n",
    "                best=len(ss)\n",
    "    return best"
   ]
  },
  {
   "cell_type": "code",
   "execution_count": 5,
   "metadata": {},
   "outputs": [
    {
     "data": {
      "text/plain": [
       "11"
      ]
     },
     "execution_count": 5,
     "metadata": {},
     "output_type": "execute_result"
    }
   ],
   "source": [
    "lengthOfLongestSubstring('zumqwotffqrhglcpldthvzpdwpvqpizqclgabbfgrznxmrnzuigpkxvgosyfaxxeidflgmrzngz')"
   ]
  },
  {
   "cell_type": "markdown",
   "metadata": {},
   "source": [
    "有一个滑窗，窗的右边如果发现有重复了，那么左边就可以直接从重复的字符那里出发了，这就需要用map记录值和位置的关系"
   ]
  },
  {
   "cell_type": "code",
   "execution_count": 6,
   "metadata": {},
   "outputs": [],
   "source": [
    "def lengthOfLongestSubstring2(s):\n",
    "    r=[]\n",
    "    if len(s)<=1:\n",
    "        return len(s)\n",
    "    for i in range(len(s)):\n",
    "        for j in range(i,len(s)):\n",
    "            if j<len(s)-1:\n",
    "                if s[j+1] not in s[i:j+1]:\n",
    "                    r.append(s[i:j+1])\n",
    "                else:\n",
    "                    i=j\n",
    "                    break\n",
    "    best=0\n",
    "    for ss in r:\n",
    "        if uniquechar(ss):\n",
    "            if best<len(ss):\n",
    "                best=len(ss)\n",
    "    return best "
   ]
  },
  {
   "cell_type": "code",
   "execution_count": 7,
   "metadata": {},
   "outputs": [
    {
     "data": {
      "text/plain": [
       "3"
      ]
     },
     "execution_count": 7,
     "metadata": {},
     "output_type": "execute_result"
    }
   ],
   "source": [
    "lengthOfLongestSubstring2('abcad')"
   ]
  },
  {
   "cell_type": "markdown",
   "metadata": {},
   "source": [
    "### 14. Longest Common Prefix"
   ]
  },
  {
   "cell_type": "markdown",
   "metadata": {},
   "source": [
    "Write a function to find the longest common prefix string amongst an array of strings.\n",
    "\n",
    "If there is no common prefix, return an empty string \"\".\n",
    "\n",
    "Input: [\"flower\",\"flow\",\"flight\"]\n",
    "\n",
    "Output: \"fl\""
   ]
  },
  {
   "cell_type": "markdown",
   "metadata": {},
   "source": [
    "通过horizontal scanning得到"
   ]
  },
  {
   "cell_type": "code",
   "execution_count": 8,
   "metadata": {},
   "outputs": [],
   "source": [
    "def longestCommonPrefix(strs):\n",
    "\n",
    "    prox=strs[0]\n",
    "    for i in range(1,len(strs)):\n",
    "        result=''\n",
    "        for j,k in zip(strs[i],prox):\n",
    "            if j==k:\n",
    "                result= result+j\n",
    "                prox=result\n",
    "            else:\n",
    "                prox=result              \n",
    "                break\n",
    "    return result"
   ]
  },
  {
   "cell_type": "code",
   "execution_count": 9,
   "metadata": {},
   "outputs": [
    {
     "data": {
      "text/plain": [
       "'aa'"
      ]
     },
     "execution_count": 9,
     "metadata": {},
     "output_type": "execute_result"
    }
   ],
   "source": [
    "a=longestCommonPrefix([\"aaa\",\"aa\",\"aaa\"])\n",
    "a"
   ]
  },
  {
   "cell_type": "markdown",
   "metadata": {},
   "source": [
    "通过vertical scanning得到"
   ]
  },
  {
   "cell_type": "code",
   "execution_count": 55,
   "metadata": {},
   "outputs": [],
   "source": [
    "def longestCommonPrefix(strs):\n",
    "    if strs==[''] or len(strs)==0:\n",
    "        return ''\n",
    "    for i in range(len(strs[0])):\n",
    "        for j in range(1,len(strs)):\n",
    "            if i==len(strs[j]) or strs[j][i]!=strs[0][i]:\n",
    "                return strs[0][:i]\n",
    "            \n",
    "    return strs[0]"
   ]
  },
  {
   "cell_type": "code",
   "execution_count": 57,
   "metadata": {},
   "outputs": [
    {
     "data": {
      "text/plain": [
       "'aa'"
      ]
     },
     "execution_count": 57,
     "metadata": {},
     "output_type": "execute_result"
    }
   ],
   "source": [
    "a=longestCommonPrefix([\"aaa\",\"aa\",\"aaa\"])\n",
    "a"
   ]
  },
  {
   "cell_type": "markdown",
   "metadata": {},
   "source": [
    "分而治之,用的是递归的思想"
   ]
  },
  {
   "cell_type": "code",
   "execution_count": 62,
   "metadata": {},
   "outputs": [],
   "source": [
    "def longestCommonPrefix(strs):\n",
    "    if not strs:\n",
    "        return ''\n",
    "    return longestCommonPrefix2(strs,0,len(strs)-1)\n",
    "\n",
    "def longestCommonPrefix2(strs, l, r):\n",
    "    if (l==r):\n",
    "        return strs[l]\n",
    "    else:\n",
    "        mid=(l+r)//2\n",
    "        lcpleft=longestCommonPrefix2(strs,l,mid)\n",
    "        lcpright=longestCommonPrefix2(strs,mid+1,r)\n",
    "        return commonPrefix(lcpleft,lcpright)\n",
    "\n",
    "def commonPrefix(left,right):\n",
    "    mini=min(len(left),len(right))\n",
    "    for i in range(mini):\n",
    "        if left[i]!=right[i]:\n",
    "            return left[:i]\n",
    "    return left[:mini]"
   ]
  },
  {
   "cell_type": "code",
   "execution_count": 64,
   "metadata": {},
   "outputs": [
    {
     "data": {
      "text/plain": [
       "'a'"
      ]
     },
     "execution_count": 64,
     "metadata": {},
     "output_type": "execute_result"
    }
   ],
   "source": [
    "a=longestCommonPrefix([\"aaa\",\"aa\",\"aaa\",'adfdfs','adfdfsa'])\n",
    "a"
   ]
  },
  {
   "cell_type": "markdown",
   "metadata": {},
   "source": [
    "### 704 Binary Search"
   ]
  },
  {
   "cell_type": "markdown",
   "metadata": {},
   "source": [
    "Given a sorted (in ascending order) integer array nums of n elements and a target value, write a function to search target in nums. \n",
    "\n",
    "If target exists, then return its index, otherwise return -1.\n",
    "\n",
    "二分查找关键是利用左闭右开区间，左边的区间是要能访问到的，右边的区间是不应该访问到的，这样理解最方便"
   ]
  },
  {
   "cell_type": "code",
   "execution_count": null,
   "metadata": {},
   "outputs": [],
   "source": [
    "def search(nums, target):\n",
    "    first=0\n",
    "    last=len(nums)\n",
    "    while(first<last):\n",
    "        mid=first+(last-first)//2\n",
    "        if nums[mid]==target:\n",
    "            return mid\n",
    "        elif nums[mid]<target:\n",
    "            first=mid+1\n",
    "        else:\n",
    "            last=mid\n",
    "    return -1"
   ]
  }
 ],
 "metadata": {
  "kernelspec": {
   "display_name": "Python [default]",
   "language": "python",
   "name": "python3"
  },
  "language_info": {
   "codemirror_mode": {
    "name": "ipython",
    "version": 3
   },
   "file_extension": ".py",
   "mimetype": "text/x-python",
   "name": "python",
   "nbconvert_exporter": "python",
   "pygments_lexer": "ipython3",
   "version": "3.6.5"
  }
 },
 "nbformat": 4,
 "nbformat_minor": 2
}
