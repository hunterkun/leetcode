{
 "cells": [
  {
   "cell_type": "markdown",
   "metadata": {},
   "source": [
    "## 11. Container With Most Water\n",
    "Given n non-negative integers a1, a2, ..., an , where each represents a point at coordinate (i, ai). n vertical\n",
    "\n",
    "lines are drawn such that the two endpoints of line i is at (i, ai) and (i, 0). Find two lines, which together with\n",
    "\n",
    "x-axis forms a container, such that the container contains the most water."
   ]
  },
  {
   "cell_type": "code",
   "execution_count": null,
   "metadata": {},
   "outputs": [],
   "source": [
    "def maxArea(height):\n",
    "    best=0\n",
    "    for i in range(0,len(height)-1):\n",
    "        for j in range(1,len(height)):\n",
    "            area = (j-i) * min(height(i),height(j))\n",
    "            if area>best:\n",
    "                best=area\n",
    "    return best"
   ]
  },
  {
   "cell_type": "code",
   "execution_count": null,
   "metadata": {},
   "outputs": [],
   "source": [
    "def maxArea(height):\n",
    "    best=0\n",
    "    l=0\n",
    "    r=len(height)-1\n",
    "    while l<r:\n",
    "        area=(r-l)*min(height[l],height[r])\n",
    "        if height[l]<=height[r]:\n",
    "            l+=1\n",
    "        else:\n",
    "            r-=1\n",
    "        if area>best:\n",
    "            best=area\n",
    "    return best"
   ]
  },
  {
   "cell_type": "markdown",
   "metadata": {},
   "source": [
    "## Find the first and last position of element in sorted array\n",
    "Given an array of integers nums sorted in ascending order, find the starting and ending position of a given target value.\n",
    "\n",
    "Your algorithm's runtime complexity must be in the order of O(log n).\n",
    "\n",
    "If the target is not found in the array, return [-1, -1]."
   ]
  },
  {
   "cell_type": "code",
   "execution_count": 5,
   "metadata": {},
   "outputs": [],
   "source": [
    "def searchRange(nums,target):\n",
    "    l=0\n",
    "    r=len(nums)\n",
    "    result=[]\n",
    "    while l<r:\n",
    "        mid=l+(r-l)//2\n",
    "        if nums[mid]>target:\n",
    "            r=mid\n",
    "        elif nums[mid]<target:\n",
    "            l=mid+1\n",
    "        else:\n",
    "            m=mid\n",
    "            n=mid\n",
    "            while nums[m-1]==target:\n",
    "                m-=1\n",
    "            a=m\n",
    "            while nums[n+1]==target:\n",
    "                n+=1\n",
    "            b=n\n",
    "            return [a,b]\n",
    "                \n",
    "    return [-1,-1]"
   ]
  },
  {
   "cell_type": "code",
   "execution_count": 6,
   "metadata": {},
   "outputs": [
    {
     "name": "stdout",
     "output_type": "stream",
     "text": [
      "ddd\n"
     ]
    },
    {
     "data": {
      "text/plain": [
       "[3, 4]"
      ]
     },
     "execution_count": 6,
     "metadata": {},
     "output_type": "execute_result"
    }
   ],
   "source": [
    "searchRange([5,7,7,8,8,10],8)"
   ]
  },
  {
   "cell_type": "code",
   "execution_count": null,
   "metadata": {},
   "outputs": [],
   "source": [
    "def searchRange(nums, target):\n",
    "    \"\"\"\n",
    "    :type nums: List[int]\n",
    "    :type target: int\n",
    "    :rtype: List[int]\n",
    "    \"\"\"\n",
    "    l=0\n",
    "    r=len(nums)\n",
    "    if r==1:\n",
    "        if target==nums[0]:\n",
    "            return [0,0]\n",
    "        else:\n",
    "            return [-1,-1]\n",
    "    result=[]\n",
    "    while l<r:\n",
    "        mid=l+(r-l)//2\n",
    "        if nums[mid]<target:\n",
    "            l=mid+1\n",
    "        else:\n",
    "            r=mid\n",
    "    result.append(l)\n",
    "    l=0\n",
    "    r=len(nums)\n",
    "    while l<r:\n",
    "        mid=l+(r-l)//2\n",
    "        if nums[mid]<=target:\n",
    "            l=mid+1\n",
    "        else:\n",
    "            r=mid\n",
    "    result.append(r)\n",
    "    if result[0]==result[1]:\n",
    "        return [-1,-1]\n",
    "\n",
    "    else:\n",
    "        return [result[0],result[1]-1]"
   ]
  },
  {
   "cell_type": "markdown",
   "metadata": {},
   "source": [
    "### 5. Longest Palindromic Substring"
   ]
  },
  {
   "cell_type": "markdown",
   "metadata": {},
   "source": [
    "如何高效遍历一个字符串"
   ]
  },
  {
   "cell_type": "markdown",
   "metadata": {},
   "source": [
    "Given a string s, find the longest palindromic substring in s. You may assume that the maximum length of s is 1000."
   ]
  },
  {
   "cell_type": "markdown",
   "metadata": {},
   "source": [
    "Input: \"babad\"\n",
    "Output: \"bab\"\n",
    "Note: \"aba\" is also a valid answer."
   ]
  },
  {
   "cell_type": "code",
   "execution_count": 24,
   "metadata": {},
   "outputs": [],
   "source": [
    "def ifPalindrome(s):\n",
    "    if len(s)==2:\n",
    "        return s[0]==s[1]\n",
    "    elif len(s)==1:\n",
    "        return True\n",
    "    else:\n",
    "        return s[0]==s[-1] and ifPalindrome(s[1:-1])"
   ]
  },
  {
   "cell_type": "code",
   "execution_count": 37,
   "metadata": {},
   "outputs": [],
   "source": [
    "def longestPalindrome(s):\n",
    "    best=0\n",
    "    strr=''\n",
    "    if len(s)==1:\n",
    "        return s\n",
    "    for i in range(len(s)-1):\n",
    "        for j in range(i, len(s)):\n",
    "            st=s[i:j+1]\n",
    "            if ifPalindrome(st) and len(st)>best:\n",
    "                best=len(st)\n",
    "                strr=st\n",
    "                \n",
    "    return strr"
   ]
  },
  {
   "cell_type": "code",
   "execution_count": 41,
   "metadata": {},
   "outputs": [
    {
     "data": {
      "text/plain": [
       "'bab'"
      ]
     },
     "execution_count": 41,
     "metadata": {},
     "output_type": "execute_result"
    }
   ],
   "source": [
    "longestPalindrome('babaadsdbba')"
   ]
  },
  {
   "cell_type": "markdown",
   "metadata": {},
   "source": [
    "### 求两个序列的最长公共子串(要求连续）"
   ]
  },
  {
   "cell_type": "markdown",
   "metadata": {},
   "source": [
    "思路：把两个字符串组成分别以行列组成一个二维矩阵，每个点对应的行列字符是否相等，相等则设为1，否则为0，通过查找值为1的最长对角线就能找到最长公共子串"
   ]
  },
  {
   "cell_type": "code",
   "execution_count": 48,
   "metadata": {},
   "outputs": [],
   "source": [
    "def getLCSLength(s1,s2):\n",
    "    m=[[0 for i in range(len(s2)+1)] for j in range(len(s1)+1)]\n",
    "    mmax=0\n",
    "    p=0\n",
    "    for i in range(len(s1)):\n",
    "        for j in range(len(s2)):\n",
    "            if s1[i]==s2[j]:\n",
    "                m[i+1][j+1]=m[i][j]+1\n",
    "                if mmax<m[i+1][j+1]:\n",
    "                    p=i+1\n",
    "                    mmax=m[i+1][j+1]\n",
    "                    \n",
    "    return s1[p-mmax:p], mmax\n",
    "                "
   ]
  },
  {
   "cell_type": "code",
   "execution_count": 51,
   "metadata": {},
   "outputs": [
    {
     "data": {
      "text/plain": [
       "('asdfas', 6)"
      ]
     },
     "execution_count": 51,
     "metadata": {},
     "output_type": "execute_result"
    }
   ],
   "source": [
    "getLCSLength('asdfas','werasdfaswer')"
   ]
  },
  {
   "cell_type": "markdown",
   "metadata": {},
   "source": [
    "### 求两个序列的最长公共子序列(不要求连续，相对顺序对就行）"
   ]
  },
  {
   "cell_type": "markdown",
   "metadata": {},
   "source": [
    "思路：递归/动态规划,递归的思想是将问题分解成下面的表达式，会带来重复计算的问题，所以选择动态规划，根据下表来求解"
   ]
  },
  {
   "cell_type": "markdown",
   "metadata": {},
   "source": [
    "![title](img/1.png)\n",
    "![title](img/2.png)"
   ]
  },
  {
   "cell_type": "code",
   "execution_count": 59,
   "metadata": {},
   "outputs": [],
   "source": [
    "def getLCS(s1,s2):\n",
    "    a=len(s1)\n",
    "    b=len(s2)\n",
    "    if a==0 or b==0:\n",
    "        return 0\n",
    "    if s1[a-1]==s2[b-1]:\n",
    "        return getLCS(s1[:a-1],s2[:b-1])+1\n",
    "    else:\n",
    "        return max(getLCS(s1[:a-1],s2), getLCS(s1,s2[:b-1]))"
   ]
  },
  {
   "cell_type": "code",
   "execution_count": 60,
   "metadata": {},
   "outputs": [
    {
     "data": {
      "text/plain": [
       "4"
      ]
     },
     "execution_count": 60,
     "metadata": {},
     "output_type": "execute_result"
    }
   ],
   "source": [
    "getLCS('ABCBDAB','BDCABA')"
   ]
  },
  {
   "cell_type": "code",
   "execution_count": 63,
   "metadata": {},
   "outputs": [],
   "source": [
    "def getLCS2(s1,s2):\n",
    "    m=[[0 for i in range(len(s2)+1)] for j in range(len(s1)+1)]\n",
    "    for i in range(len(s1)):\n",
    "        for j in range(len(s2)):\n",
    "            if s1[i]==s2[j]:\n",
    "                m[i+1][j+1]=m[i][j]+1\n",
    "            else:\n",
    "                m[i+1][j+1]=max(m[i][j+1],m[i+1][j])\n",
    "    return m[-1][-1] "
   ]
  },
  {
   "cell_type": "code",
   "execution_count": 64,
   "metadata": {},
   "outputs": [
    {
     "data": {
      "text/plain": [
       "4"
      ]
     },
     "execution_count": 64,
     "metadata": {},
     "output_type": "execute_result"
    }
   ],
   "source": [
    "getLCS2('ABCBDAB','BDCABA')"
   ]
  },
  {
   "cell_type": "code",
   "execution_count": 104,
   "metadata": {},
   "outputs": [],
   "source": [
    "def getLCS3(s1,s2):\n",
    "    m=[[0 for i in range(len(s2)+1)] for j in range(len(s1)+1)]\n",
    "    for i in range(len(s1)):\n",
    "        for j in range(len(s2)):\n",
    "            if s1[i]==s2[j]:\n",
    "                m[i+1][j+1]=m[i][j]+1\n",
    "            else:\n",
    "                m[i+1][j+1]=max(m[i][j+1],m[i+1][j])\n",
    "    return m, m[-1][-1]\n",
    "\n",
    "s=[]\n",
    "def getlcs(s1,s2,m,ss):\n",
    "    a=len(s1)\n",
    "    b=len(s2)\n",
    "    while (a>0 and b>0):\n",
    "        if s1[a-1]==s2[b-1]:\n",
    "            ss+=s1[a-1]\n",
    "            a-=1\n",
    "            b-=1\n",
    "        else:\n",
    "            if m[a-1][b]==m[a][b-1]:\n",
    "                getlcs(s1[:a-1],s2[:b],m,ss)\n",
    "                getlcs(s1[:a],s2[:b-1],m,ss)\n",
    "                return \n",
    "            elif m[a-1][b]>m[a][b-1]:\n",
    "                a-=1\n",
    "            else:\n",
    "                b-=1\n",
    "    s.append(ss[::-1])"
   ]
  },
  {
   "cell_type": "code",
   "execution_count": 105,
   "metadata": {},
   "outputs": [
    {
     "name": "stdout",
     "output_type": "stream",
     "text": [
      "\n",
      "\n",
      "\n",
      "BA\n",
      "BA\n"
     ]
    },
    {
     "data": {
      "text/plain": [
       "['BCBA', 'BCAB', 'BDAB']"
      ]
     },
     "execution_count": 105,
     "metadata": {},
     "output_type": "execute_result"
    }
   ],
   "source": [
    "a,b=getLCS3('ABCBDAB','BDCABA')\n",
    "ss=''\n",
    "getlcs('ABCBDAB','BDCABA',a,ss)\n",
    "s"
   ]
  },
  {
   "cell_type": "code",
   "execution_count": 2,
   "metadata": {},
   "outputs": [
    {
     "data": {
      "text/plain": [
       "11"
      ]
     },
     "execution_count": 2,
     "metadata": {},
     "output_type": "execute_result"
    }
   ],
   "source": [
    "len(\"a bdfas dfa\")"
   ]
  },
  {
   "cell_type": "code",
   "execution_count": 6,
   "metadata": {},
   "outputs": [
    {
     "data": {
      "text/plain": [
       "44"
      ]
     },
     "execution_count": 6,
     "metadata": {},
     "output_type": "execute_result"
    }
   ],
   "source": [
    "\"There are two needles in this haystack with needles.\".find('needle',14+1)"
   ]
  },
  {
   "cell_type": "code",
   "execution_count": 16,
   "metadata": {},
   "outputs": [],
   "source": [
    "def split(s, delimiter):\n",
    "    res=[]\n",
    "    i = 0\n",
    "    while(i < len(s)):\n",
    "        pos = s.find(delimiter, i)\n",
    "        if(pos == -1):\n",
    "            res.append(s[i:])\n",
    "            break\n",
    "        else:\n",
    "            res.append(s[i: pos])\n",
    "            i = pos + 1\n",
    "    return res"
   ]
  },
  {
   "cell_type": "code",
   "execution_count": 17,
   "metadata": {},
   "outputs": [],
   "source": [
    "a=split('ab df idsf dsfsdf', ' ')"
   ]
  },
  {
   "cell_type": "code",
   "execution_count": 18,
   "metadata": {},
   "outputs": [],
   "source": [
    "def join(s, delimiter):\n",
    "    if len(s) == 0:\n",
    "        return \"\"\n",
    "    ret = s[0]\n",
    "    for i in range(1, len(s)):\n",
    "        ret += (s[i] + delimiter)\n",
    "    return ret"
   ]
  },
  {
   "cell_type": "code",
   "execution_count": 19,
   "metadata": {},
   "outputs": [
    {
     "data": {
      "text/plain": [
       "'abdf idsf dsfsdf '"
      ]
     },
     "execution_count": 19,
     "metadata": {},
     "output_type": "execute_result"
    }
   ],
   "source": [
    "join(a,' ')"
   ]
  },
  {
   "cell_type": "code",
   "execution_count": null,
   "metadata": {},
   "outputs": [],
   "source": []
  }
 ],
 "metadata": {
  "kernelspec": {
   "display_name": "Python 3",
   "language": "python",
   "name": "python3"
  },
  "language_info": {
   "codemirror_mode": {
    "name": "ipython",
    "version": 3
   },
   "file_extension": ".py",
   "mimetype": "text/x-python",
   "name": "python",
   "nbconvert_exporter": "python",
   "pygments_lexer": "ipython3",
   "version": "3.7.3"
  }
 },
 "nbformat": 4,
 "nbformat_minor": 2
}
