{
 "cells": [
  {
   "cell_type": "markdown",
   "metadata": {},
   "source": [
    "### 实现无序链表"
   ]
  },
  {
   "cell_type": "code",
   "execution_count": 3,
   "metadata": {},
   "outputs": [],
   "source": [
    "class Node:\n",
    "    def __init__(self,initial_val):\n",
    "        self.val=initial_val\n",
    "        self.next=None\n",
    "    def setVal(self,val):\n",
    "        self.val=val\n",
    "    def getVal(self):\n",
    "        return self.val\n",
    "    def getNext(self):\n",
    "        return self.next\n",
    "    def setNext(self,newnext):\n",
    "        self.next=newnext"
   ]
  },
  {
   "cell_type": "code",
   "execution_count": 4,
   "metadata": {},
   "outputs": [],
   "source": [
    "class UnorderedList:\n",
    "    def __init__(self):\n",
    "        self.head=None\n",
    "    def isEmpty(self):\n",
    "        return self.head==None\n",
    "    def add(self,val):\n",
    "        temp=Node(val)\n",
    "        temp.setNext(self.head)\n",
    "        self.head=temp\n",
    "    def size(self):\n",
    "        count=0\n",
    "        a=self.head\n",
    "        while a !=None:\n",
    "            count+=1\n",
    "            a=a.getNext()\n",
    "        return count\n",
    "    def search(self,item):\n",
    "        a=self.head\n",
    "        found=False\n",
    "        while a!=None:\n",
    "            if item==a.getVal():\n",
    "                found=True\n",
    "                break\n",
    "            a=a.getNext()\n",
    "        return found\n",
    "    #需要一个previous指针表示上一个要做修改的节点，因为无序列表没有办法回退\n",
    "    #难点在于一个需要特殊对待的地方，如果被移除的节点恰好是第一个，则应该另做考虑\n",
    "    def remove(self,item):\n",
    "        current,previous=self.head,None\n",
    "        found=False\n",
    "        while current!=None and not found:\n",
    "            if item==current.getVal():\n",
    "                found=True\n",
    "            else:\n",
    "                previous=current\n",
    "                current=current.getNext()\n",
    "        if found:       \n",
    "            if previous==None:\n",
    "                self.head=current.getNext()\n",
    "            else:\n",
    "                temp = current.getNext()\n",
    "                previous.setNext(temp)\n"
   ]
  },
  {
   "cell_type": "markdown",
   "metadata": {},
   "source": [
    "### 有序链表"
   ]
  },
  {
   "cell_type": "code",
   "execution_count": 6,
   "metadata": {},
   "outputs": [],
   "source": [
    "class OrderedList:\n",
    "    def __init__(self):\n",
    "        self.head=None\n",
    "    \n",
    "    def search(self,item):\n",
    "        cur=self.head\n",
    "        found=False\n",
    "        stop=False\n",
    "        while cur!=None and not found and not stop:\n",
    "            if item==cur.getVal():\n",
    "                found=True\n",
    "            else:\n",
    "                if cur.getVal()>item:\n",
    "                    stop=True\n",
    "                else:\n",
    "                    cur=cur.getNext()\n",
    "        return found\n",
    "    \n",
    "    def add(self,item):\n",
    "        temp=Node(item)\n",
    "        cur=self.head\n",
    "        prev=None\n",
    "        stop=False\n",
    "        #同样要考虑插入到第一个的情况\n",
    "        while cur!=None and not stop:\n",
    "            if cur.getVal()>=item:\n",
    "                stop=True\n",
    "            else:\n",
    "                prev=cur\n",
    "                cur=cur.getNext()\n",
    "        if not prev:\n",
    "            temp.setNext(self.head)\n",
    "            self.head=temp\n",
    "        else:\n",
    "            prev.setNext(temp)\n",
    "            temp.setNext(cur)\n",
    "            "
   ]
  },
  {
   "cell_type": "code",
   "execution_count": null,
   "metadata": {},
   "outputs": [],
   "source": []
  }
 ],
 "metadata": {
  "kernelspec": {
   "display_name": "Python [conda root]",
   "language": "python",
   "name": "conda-root-py"
  },
  "language_info": {
   "codemirror_mode": {
    "name": "ipython",
    "version": 3
   },
   "file_extension": ".py",
   "mimetype": "text/x-python",
   "name": "python",
   "nbconvert_exporter": "python",
   "pygments_lexer": "ipython3",
   "version": "3.6.5"
  }
 },
 "nbformat": 4,
 "nbformat_minor": 2
}
